{
 "cells": [
  {
   "cell_type": "code",
   "execution_count": 33,
   "id": "c674aa66",
   "metadata": {},
   "outputs": [
    {
     "data": {
      "text/plain": [
       "{'Document 1': 'This is the first document. It contains some words.',\n",
       " 'Document 2': 'The second document is a bit longer and has different words.',\n",
       " 'Document 3': 'The third document is short. Short documents can be concise.'}"
      ]
     },
     "execution_count": 33,
     "metadata": {},
     "output_type": "execute_result"
    }
   ],
   "source": [
    "import pandas as pd\n",
    "import csv\n",
    "reader = csv.reader(open('tdoc.csv', 'r'))\n",
    "docs = {}\n",
    "for row in reader:\n",
    "   k, v = row\n",
    "   docs[k] = v\n",
    "docs"
   ]
  },
  {
   "cell_type": "code",
   "execution_count": 35,
   "id": "4c0f6e2b",
   "metadata": {},
   "outputs": [
    {
     "data": {
      "text/plain": [
       "['This is the first document. It contains some words.',\n",
       " 'The second document is a bit longer and has different words.',\n",
       " 'The third document is short. Short documents can be concise.']"
      ]
     },
     "execution_count": 35,
     "metadata": {},
     "output_type": "execute_result"
    }
   ],
   "source": [
    "content_list = [content for content in docs.values()]  \n",
    "content_list"
   ]
  },
  {
   "cell_type": "code",
   "execution_count": 36,
   "id": "59a1f964",
   "metadata": {},
   "outputs": [
    {
     "name": "stdout",
     "output_type": "stream",
     "text": [
      "{'and', 'short.', 'has', 'first', 'different', 'a', 'third', 'longer', 'document', 'documents', 'words.', 'bit', 'This', 'concise.', 'can', 'Short', 'be', 'is', 'the', 'contains', 'document.', 'some', 'It', 'The', 'second'}\n"
     ]
    }
   ],
   "source": [
    "# Gather the set of all unique terms from the list content of document and diplay the result\n",
    "\n",
    "unique_terms = {term for doc in content_list for term in doc.split()}\n",
    "print(unique_terms)"
   ]
  },
  {
   "cell_type": "code",
   "execution_count": 38,
   "id": "cf6d11e7",
   "metadata": {},
   "outputs": [
    {
     "data": {
      "text/plain": [
       "{'and': [0, 1, 0],\n",
       " 'short.': [0, 0, 1],\n",
       " 'has': [0, 1, 0],\n",
       " 'first': [1, 0, 0],\n",
       " 'different': [0, 1, 0],\n",
       " 'a': [1, 1, 1],\n",
       " 'third': [0, 0, 1],\n",
       " 'longer': [0, 1, 0],\n",
       " 'document': [1, 1, 1],\n",
       " 'documents': [0, 0, 1],\n",
       " 'words.': [1, 1, 0],\n",
       " 'bit': [0, 1, 0],\n",
       " 'This': [1, 0, 0],\n",
       " 'concise.': [0, 0, 1],\n",
       " 'can': [0, 0, 1],\n",
       " 'Short': [0, 0, 1],\n",
       " 'be': [0, 0, 1],\n",
       " 'is': [1, 1, 1],\n",
       " 'the': [1, 0, 0],\n",
       " 'contains': [1, 0, 0],\n",
       " 'document.': [1, 0, 0],\n",
       " 'some': [1, 0, 0],\n",
       " 'It': [1, 0, 0],\n",
       " 'The': [0, 1, 1],\n",
       " 'second': [0, 1, 0]}"
      ]
     },
     "execution_count": 38,
     "metadata": {},
     "output_type": "execute_result"
    }
   ],
   "source": [
    "# create a matrix for the document by using the unique term\n",
    "doc_term_matrix = {}\n",
    "\n",
    "# your code here\n",
    "for term in unique_terms:\n",
    "    doc_term_matrix[term] = []\n",
    "    for doc in content_list:\n",
    "        doc_term_matrix[term].append(1) if term in doc else doc_term_matrix[term].append(0)\n",
    "\n",
    "# display the result of the matrix\n",
    "doc_term_matrix"
   ]
  },
  {
   "cell_type": "code",
   "execution_count": 42,
   "id": "04b36224",
   "metadata": {},
   "outputs": [
    {
     "name": "stdout",
     "output_type": "stream",
     "text": [
      "[1 0 0]\n",
      "[1 1 1]\n",
      "-------\n",
      "[1 0 0]\n",
      "['This is the first document. It contains some words.']\n"
     ]
    }
   ],
   "source": [
    "# import the numpy library if it doesn't work you need to install numpy\n",
    "import numpy as np\n",
    "\n",
    "docs_array = np.array(content_list, dtype='object')\n",
    "\n",
    "v1 = np.array(doc_term_matrix['first'])    \n",
    "v2 = np.array(doc_term_matrix['document'])\n",
    "\n",
    "print(v1)\n",
    "print(v2)\n",
    "print('-------')\n",
    "\n",
    "# find the documents that have both terms from v1 and v2\n",
    "v3 = v1 & v2\n",
    "\n",
    "print(v3)\n",
    "\n",
    "# display the content document from the result\n",
    "result = [doc for doc in v3 * docs_array if doc]\n",
    "print(result)"
   ]
  },
  {
   "cell_type": "code",
   "execution_count": 43,
   "id": "9c0143f8",
   "metadata": {},
   "outputs": [
    {
     "name": "stdout",
     "output_type": "stream",
     "text": [
      "{'Document 1'}\n"
     ]
    }
   ],
   "source": [
    "keys_result = set()\n",
    "for i,x in docs.items():\n",
    "    if x in result:\n",
    "        keys_result.add(i)\n",
    "print(keys_result)"
   ]
  },
  {
   "cell_type": "code",
   "execution_count": 44,
   "id": "3926d29c",
   "metadata": {},
   "outputs": [
    {
     "name": "stdout",
     "output_type": "stream",
     "text": [
      "Set saved as my_set.csv\n"
     ]
    }
   ],
   "source": [
    "import csv\n",
    "\n",
    "# Convert the set to a list\n",
    "my_list = list(unique_terms)\n",
    "\n",
    "# Specify the CSV file path\n",
    "csv_file_path = 'my_set.csv'\n",
    "\n",
    "# Write the data to the CSV file\n",
    "with open(csv_file_path, 'w', newline='') as csv_file:\n",
    "    csv_writer = csv.writer(csv_file)\n",
    "    \n",
    "    # Write the data as a single row\n",
    "    csv_writer.writerow(my_list)\n",
    "\n",
    "print(f\"Set saved as {csv_file_path}\")"
   ]
  }
 ],
 "metadata": {
  "kernelspec": {
   "display_name": "Python 3 (ipykernel)",
   "language": "python",
   "name": "python3"
  },
  "language_info": {
   "codemirror_mode": {
    "name": "ipython",
    "version": 3
   },
   "file_extension": ".py",
   "mimetype": "text/x-python",
   "name": "python",
   "nbconvert_exporter": "python",
   "pygments_lexer": "ipython3",
   "version": "3.11.3"
  }
 },
 "nbformat": 4,
 "nbformat_minor": 5
}
